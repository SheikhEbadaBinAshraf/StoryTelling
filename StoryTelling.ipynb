{
 "cells": [
  {
   "cell_type": "markdown",
   "id": "e44be783",
   "metadata": {},
   "source": [
    "# Story Telling\n",
    "\n",
    "## File Name : \"month_sales.csv\""
   ]
  },
  {
   "cell_type": "code",
   "execution_count": 1,
   "id": "99f89688",
   "metadata": {},
   "outputs": [],
   "source": [
    "import pandas as pd\n",
    "import matplotlib.pyplot as plt\n",
    "import seaborn as sns"
   ]
  },
  {
   "cell_type": "code",
   "execution_count": 2,
   "id": "49d6b5a1",
   "metadata": {},
   "outputs": [
    {
     "ename": "FileNotFoundError",
     "evalue": "[Errno 2] No such file or directory: 'month_sales.csv'",
     "output_type": "error",
     "traceback": [
      "\u001b[1;31m---------------------------------------------------------------------------\u001b[0m",
      "\u001b[1;31mFileNotFoundError\u001b[0m                         Traceback (most recent call last)",
      "Cell \u001b[1;32mIn[2], line 1\u001b[0m\n\u001b[1;32m----> 1\u001b[0m sale \u001b[38;5;241m=\u001b[39m \u001b[43mpd\u001b[49m\u001b[38;5;241;43m.\u001b[39;49m\u001b[43mread_csv\u001b[49m\u001b[43m(\u001b[49m\u001b[38;5;124;43m\"\u001b[39;49m\u001b[38;5;124;43mmonth_sales.csv\u001b[39;49m\u001b[38;5;124;43m\"\u001b[39;49m\u001b[43m)\u001b[49m\n\u001b[0;32m      2\u001b[0m sale\n",
      "File \u001b[1;32m~\\anaconda3\\lib\\site-packages\\pandas\\util\\_decorators.py:211\u001b[0m, in \u001b[0;36mdeprecate_kwarg.<locals>._deprecate_kwarg.<locals>.wrapper\u001b[1;34m(*args, **kwargs)\u001b[0m\n\u001b[0;32m    209\u001b[0m     \u001b[38;5;28;01melse\u001b[39;00m:\n\u001b[0;32m    210\u001b[0m         kwargs[new_arg_name] \u001b[38;5;241m=\u001b[39m new_arg_value\n\u001b[1;32m--> 211\u001b[0m \u001b[38;5;28;01mreturn\u001b[39;00m func(\u001b[38;5;241m*\u001b[39margs, \u001b[38;5;241m*\u001b[39m\u001b[38;5;241m*\u001b[39mkwargs)\n",
      "File \u001b[1;32m~\\anaconda3\\lib\\site-packages\\pandas\\util\\_decorators.py:331\u001b[0m, in \u001b[0;36mdeprecate_nonkeyword_arguments.<locals>.decorate.<locals>.wrapper\u001b[1;34m(*args, **kwargs)\u001b[0m\n\u001b[0;32m    325\u001b[0m \u001b[38;5;28;01mif\u001b[39;00m \u001b[38;5;28mlen\u001b[39m(args) \u001b[38;5;241m>\u001b[39m num_allow_args:\n\u001b[0;32m    326\u001b[0m     warnings\u001b[38;5;241m.\u001b[39mwarn(\n\u001b[0;32m    327\u001b[0m         msg\u001b[38;5;241m.\u001b[39mformat(arguments\u001b[38;5;241m=\u001b[39m_format_argument_list(allow_args)),\n\u001b[0;32m    328\u001b[0m         \u001b[38;5;167;01mFutureWarning\u001b[39;00m,\n\u001b[0;32m    329\u001b[0m         stacklevel\u001b[38;5;241m=\u001b[39mfind_stack_level(),\n\u001b[0;32m    330\u001b[0m     )\n\u001b[1;32m--> 331\u001b[0m \u001b[38;5;28;01mreturn\u001b[39;00m func(\u001b[38;5;241m*\u001b[39margs, \u001b[38;5;241m*\u001b[39m\u001b[38;5;241m*\u001b[39mkwargs)\n",
      "File \u001b[1;32m~\\anaconda3\\lib\\site-packages\\pandas\\io\\parsers\\readers.py:950\u001b[0m, in \u001b[0;36mread_csv\u001b[1;34m(filepath_or_buffer, sep, delimiter, header, names, index_col, usecols, squeeze, prefix, mangle_dupe_cols, dtype, engine, converters, true_values, false_values, skipinitialspace, skiprows, skipfooter, nrows, na_values, keep_default_na, na_filter, verbose, skip_blank_lines, parse_dates, infer_datetime_format, keep_date_col, date_parser, dayfirst, cache_dates, iterator, chunksize, compression, thousands, decimal, lineterminator, quotechar, quoting, doublequote, escapechar, comment, encoding, encoding_errors, dialect, error_bad_lines, warn_bad_lines, on_bad_lines, delim_whitespace, low_memory, memory_map, float_precision, storage_options)\u001b[0m\n\u001b[0;32m    935\u001b[0m kwds_defaults \u001b[38;5;241m=\u001b[39m _refine_defaults_read(\n\u001b[0;32m    936\u001b[0m     dialect,\n\u001b[0;32m    937\u001b[0m     delimiter,\n\u001b[1;32m   (...)\u001b[0m\n\u001b[0;32m    946\u001b[0m     defaults\u001b[38;5;241m=\u001b[39m{\u001b[38;5;124m\"\u001b[39m\u001b[38;5;124mdelimiter\u001b[39m\u001b[38;5;124m\"\u001b[39m: \u001b[38;5;124m\"\u001b[39m\u001b[38;5;124m,\u001b[39m\u001b[38;5;124m\"\u001b[39m},\n\u001b[0;32m    947\u001b[0m )\n\u001b[0;32m    948\u001b[0m kwds\u001b[38;5;241m.\u001b[39mupdate(kwds_defaults)\n\u001b[1;32m--> 950\u001b[0m \u001b[38;5;28;01mreturn\u001b[39;00m \u001b[43m_read\u001b[49m\u001b[43m(\u001b[49m\u001b[43mfilepath_or_buffer\u001b[49m\u001b[43m,\u001b[49m\u001b[43m \u001b[49m\u001b[43mkwds\u001b[49m\u001b[43m)\u001b[49m\n",
      "File \u001b[1;32m~\\anaconda3\\lib\\site-packages\\pandas\\io\\parsers\\readers.py:605\u001b[0m, in \u001b[0;36m_read\u001b[1;34m(filepath_or_buffer, kwds)\u001b[0m\n\u001b[0;32m    602\u001b[0m _validate_names(kwds\u001b[38;5;241m.\u001b[39mget(\u001b[38;5;124m\"\u001b[39m\u001b[38;5;124mnames\u001b[39m\u001b[38;5;124m\"\u001b[39m, \u001b[38;5;28;01mNone\u001b[39;00m))\n\u001b[0;32m    604\u001b[0m \u001b[38;5;66;03m# Create the parser.\u001b[39;00m\n\u001b[1;32m--> 605\u001b[0m parser \u001b[38;5;241m=\u001b[39m TextFileReader(filepath_or_buffer, \u001b[38;5;241m*\u001b[39m\u001b[38;5;241m*\u001b[39mkwds)\n\u001b[0;32m    607\u001b[0m \u001b[38;5;28;01mif\u001b[39;00m chunksize \u001b[38;5;129;01mor\u001b[39;00m iterator:\n\u001b[0;32m    608\u001b[0m     \u001b[38;5;28;01mreturn\u001b[39;00m parser\n",
      "File \u001b[1;32m~\\anaconda3\\lib\\site-packages\\pandas\\io\\parsers\\readers.py:1442\u001b[0m, in \u001b[0;36mTextFileReader.__init__\u001b[1;34m(self, f, engine, **kwds)\u001b[0m\n\u001b[0;32m   1439\u001b[0m     \u001b[38;5;28mself\u001b[39m\u001b[38;5;241m.\u001b[39moptions[\u001b[38;5;124m\"\u001b[39m\u001b[38;5;124mhas_index_names\u001b[39m\u001b[38;5;124m\"\u001b[39m] \u001b[38;5;241m=\u001b[39m kwds[\u001b[38;5;124m\"\u001b[39m\u001b[38;5;124mhas_index_names\u001b[39m\u001b[38;5;124m\"\u001b[39m]\n\u001b[0;32m   1441\u001b[0m \u001b[38;5;28mself\u001b[39m\u001b[38;5;241m.\u001b[39mhandles: IOHandles \u001b[38;5;241m|\u001b[39m \u001b[38;5;28;01mNone\u001b[39;00m \u001b[38;5;241m=\u001b[39m \u001b[38;5;28;01mNone\u001b[39;00m\n\u001b[1;32m-> 1442\u001b[0m \u001b[38;5;28mself\u001b[39m\u001b[38;5;241m.\u001b[39m_engine \u001b[38;5;241m=\u001b[39m \u001b[38;5;28;43mself\u001b[39;49m\u001b[38;5;241;43m.\u001b[39;49m\u001b[43m_make_engine\u001b[49m\u001b[43m(\u001b[49m\u001b[43mf\u001b[49m\u001b[43m,\u001b[49m\u001b[43m \u001b[49m\u001b[38;5;28;43mself\u001b[39;49m\u001b[38;5;241;43m.\u001b[39;49m\u001b[43mengine\u001b[49m\u001b[43m)\u001b[49m\n",
      "File \u001b[1;32m~\\anaconda3\\lib\\site-packages\\pandas\\io\\parsers\\readers.py:1735\u001b[0m, in \u001b[0;36mTextFileReader._make_engine\u001b[1;34m(self, f, engine)\u001b[0m\n\u001b[0;32m   1733\u001b[0m     \u001b[38;5;28;01mif\u001b[39;00m \u001b[38;5;124m\"\u001b[39m\u001b[38;5;124mb\u001b[39m\u001b[38;5;124m\"\u001b[39m \u001b[38;5;129;01mnot\u001b[39;00m \u001b[38;5;129;01min\u001b[39;00m mode:\n\u001b[0;32m   1734\u001b[0m         mode \u001b[38;5;241m+\u001b[39m\u001b[38;5;241m=\u001b[39m \u001b[38;5;124m\"\u001b[39m\u001b[38;5;124mb\u001b[39m\u001b[38;5;124m\"\u001b[39m\n\u001b[1;32m-> 1735\u001b[0m \u001b[38;5;28mself\u001b[39m\u001b[38;5;241m.\u001b[39mhandles \u001b[38;5;241m=\u001b[39m \u001b[43mget_handle\u001b[49m\u001b[43m(\u001b[49m\n\u001b[0;32m   1736\u001b[0m \u001b[43m    \u001b[49m\u001b[43mf\u001b[49m\u001b[43m,\u001b[49m\n\u001b[0;32m   1737\u001b[0m \u001b[43m    \u001b[49m\u001b[43mmode\u001b[49m\u001b[43m,\u001b[49m\n\u001b[0;32m   1738\u001b[0m \u001b[43m    \u001b[49m\u001b[43mencoding\u001b[49m\u001b[38;5;241;43m=\u001b[39;49m\u001b[38;5;28;43mself\u001b[39;49m\u001b[38;5;241;43m.\u001b[39;49m\u001b[43moptions\u001b[49m\u001b[38;5;241;43m.\u001b[39;49m\u001b[43mget\u001b[49m\u001b[43m(\u001b[49m\u001b[38;5;124;43m\"\u001b[39;49m\u001b[38;5;124;43mencoding\u001b[39;49m\u001b[38;5;124;43m\"\u001b[39;49m\u001b[43m,\u001b[49m\u001b[43m \u001b[49m\u001b[38;5;28;43;01mNone\u001b[39;49;00m\u001b[43m)\u001b[49m\u001b[43m,\u001b[49m\n\u001b[0;32m   1739\u001b[0m \u001b[43m    \u001b[49m\u001b[43mcompression\u001b[49m\u001b[38;5;241;43m=\u001b[39;49m\u001b[38;5;28;43mself\u001b[39;49m\u001b[38;5;241;43m.\u001b[39;49m\u001b[43moptions\u001b[49m\u001b[38;5;241;43m.\u001b[39;49m\u001b[43mget\u001b[49m\u001b[43m(\u001b[49m\u001b[38;5;124;43m\"\u001b[39;49m\u001b[38;5;124;43mcompression\u001b[39;49m\u001b[38;5;124;43m\"\u001b[39;49m\u001b[43m,\u001b[49m\u001b[43m \u001b[49m\u001b[38;5;28;43;01mNone\u001b[39;49;00m\u001b[43m)\u001b[49m\u001b[43m,\u001b[49m\n\u001b[0;32m   1740\u001b[0m \u001b[43m    \u001b[49m\u001b[43mmemory_map\u001b[49m\u001b[38;5;241;43m=\u001b[39;49m\u001b[38;5;28;43mself\u001b[39;49m\u001b[38;5;241;43m.\u001b[39;49m\u001b[43moptions\u001b[49m\u001b[38;5;241;43m.\u001b[39;49m\u001b[43mget\u001b[49m\u001b[43m(\u001b[49m\u001b[38;5;124;43m\"\u001b[39;49m\u001b[38;5;124;43mmemory_map\u001b[39;49m\u001b[38;5;124;43m\"\u001b[39;49m\u001b[43m,\u001b[49m\u001b[43m \u001b[49m\u001b[38;5;28;43;01mFalse\u001b[39;49;00m\u001b[43m)\u001b[49m\u001b[43m,\u001b[49m\n\u001b[0;32m   1741\u001b[0m \u001b[43m    \u001b[49m\u001b[43mis_text\u001b[49m\u001b[38;5;241;43m=\u001b[39;49m\u001b[43mis_text\u001b[49m\u001b[43m,\u001b[49m\n\u001b[0;32m   1742\u001b[0m \u001b[43m    \u001b[49m\u001b[43merrors\u001b[49m\u001b[38;5;241;43m=\u001b[39;49m\u001b[38;5;28;43mself\u001b[39;49m\u001b[38;5;241;43m.\u001b[39;49m\u001b[43moptions\u001b[49m\u001b[38;5;241;43m.\u001b[39;49m\u001b[43mget\u001b[49m\u001b[43m(\u001b[49m\u001b[38;5;124;43m\"\u001b[39;49m\u001b[38;5;124;43mencoding_errors\u001b[39;49m\u001b[38;5;124;43m\"\u001b[39;49m\u001b[43m,\u001b[49m\u001b[43m \u001b[49m\u001b[38;5;124;43m\"\u001b[39;49m\u001b[38;5;124;43mstrict\u001b[39;49m\u001b[38;5;124;43m\"\u001b[39;49m\u001b[43m)\u001b[49m\u001b[43m,\u001b[49m\n\u001b[0;32m   1743\u001b[0m \u001b[43m    \u001b[49m\u001b[43mstorage_options\u001b[49m\u001b[38;5;241;43m=\u001b[39;49m\u001b[38;5;28;43mself\u001b[39;49m\u001b[38;5;241;43m.\u001b[39;49m\u001b[43moptions\u001b[49m\u001b[38;5;241;43m.\u001b[39;49m\u001b[43mget\u001b[49m\u001b[43m(\u001b[49m\u001b[38;5;124;43m\"\u001b[39;49m\u001b[38;5;124;43mstorage_options\u001b[39;49m\u001b[38;5;124;43m\"\u001b[39;49m\u001b[43m,\u001b[49m\u001b[43m \u001b[49m\u001b[38;5;28;43;01mNone\u001b[39;49;00m\u001b[43m)\u001b[49m\u001b[43m,\u001b[49m\n\u001b[0;32m   1744\u001b[0m \u001b[43m\u001b[49m\u001b[43m)\u001b[49m\n\u001b[0;32m   1745\u001b[0m \u001b[38;5;28;01massert\u001b[39;00m \u001b[38;5;28mself\u001b[39m\u001b[38;5;241m.\u001b[39mhandles \u001b[38;5;129;01mis\u001b[39;00m \u001b[38;5;129;01mnot\u001b[39;00m \u001b[38;5;28;01mNone\u001b[39;00m\n\u001b[0;32m   1746\u001b[0m f \u001b[38;5;241m=\u001b[39m \u001b[38;5;28mself\u001b[39m\u001b[38;5;241m.\u001b[39mhandles\u001b[38;5;241m.\u001b[39mhandle\n",
      "File \u001b[1;32m~\\anaconda3\\lib\\site-packages\\pandas\\io\\common.py:856\u001b[0m, in \u001b[0;36mget_handle\u001b[1;34m(path_or_buf, mode, encoding, compression, memory_map, is_text, errors, storage_options)\u001b[0m\n\u001b[0;32m    851\u001b[0m \u001b[38;5;28;01melif\u001b[39;00m \u001b[38;5;28misinstance\u001b[39m(handle, \u001b[38;5;28mstr\u001b[39m):\n\u001b[0;32m    852\u001b[0m     \u001b[38;5;66;03m# Check whether the filename is to be opened in binary mode.\u001b[39;00m\n\u001b[0;32m    853\u001b[0m     \u001b[38;5;66;03m# Binary mode does not support 'encoding' and 'newline'.\u001b[39;00m\n\u001b[0;32m    854\u001b[0m     \u001b[38;5;28;01mif\u001b[39;00m ioargs\u001b[38;5;241m.\u001b[39mencoding \u001b[38;5;129;01mand\u001b[39;00m \u001b[38;5;124m\"\u001b[39m\u001b[38;5;124mb\u001b[39m\u001b[38;5;124m\"\u001b[39m \u001b[38;5;129;01mnot\u001b[39;00m \u001b[38;5;129;01min\u001b[39;00m ioargs\u001b[38;5;241m.\u001b[39mmode:\n\u001b[0;32m    855\u001b[0m         \u001b[38;5;66;03m# Encoding\u001b[39;00m\n\u001b[1;32m--> 856\u001b[0m         handle \u001b[38;5;241m=\u001b[39m \u001b[38;5;28;43mopen\u001b[39;49m\u001b[43m(\u001b[49m\n\u001b[0;32m    857\u001b[0m \u001b[43m            \u001b[49m\u001b[43mhandle\u001b[49m\u001b[43m,\u001b[49m\n\u001b[0;32m    858\u001b[0m \u001b[43m            \u001b[49m\u001b[43mioargs\u001b[49m\u001b[38;5;241;43m.\u001b[39;49m\u001b[43mmode\u001b[49m\u001b[43m,\u001b[49m\n\u001b[0;32m    859\u001b[0m \u001b[43m            \u001b[49m\u001b[43mencoding\u001b[49m\u001b[38;5;241;43m=\u001b[39;49m\u001b[43mioargs\u001b[49m\u001b[38;5;241;43m.\u001b[39;49m\u001b[43mencoding\u001b[49m\u001b[43m,\u001b[49m\n\u001b[0;32m    860\u001b[0m \u001b[43m            \u001b[49m\u001b[43merrors\u001b[49m\u001b[38;5;241;43m=\u001b[39;49m\u001b[43merrors\u001b[49m\u001b[43m,\u001b[49m\n\u001b[0;32m    861\u001b[0m \u001b[43m            \u001b[49m\u001b[43mnewline\u001b[49m\u001b[38;5;241;43m=\u001b[39;49m\u001b[38;5;124;43m\"\u001b[39;49m\u001b[38;5;124;43m\"\u001b[39;49m\u001b[43m,\u001b[49m\n\u001b[0;32m    862\u001b[0m \u001b[43m        \u001b[49m\u001b[43m)\u001b[49m\n\u001b[0;32m    863\u001b[0m     \u001b[38;5;28;01melse\u001b[39;00m:\n\u001b[0;32m    864\u001b[0m         \u001b[38;5;66;03m# Binary mode\u001b[39;00m\n\u001b[0;32m    865\u001b[0m         handle \u001b[38;5;241m=\u001b[39m \u001b[38;5;28mopen\u001b[39m(handle, ioargs\u001b[38;5;241m.\u001b[39mmode)\n",
      "\u001b[1;31mFileNotFoundError\u001b[0m: [Errno 2] No such file or directory: 'month_sales.csv'"
     ]
    }
   ],
   "source": [
    "sale = pd.read_csv(\"month_sales.csv\")\n",
    "sale"
   ]
  },
  {
   "cell_type": "markdown",
   "id": "f1da916d",
   "metadata": {},
   "source": [
    "<font color = \"red\"> Ideal Case : `StoryTelling`</font>"
   ]
  },
  {
   "cell_type": "code",
   "execution_count": null,
   "id": "6db759b0",
   "metadata": {},
   "outputs": [],
   "source": [
    "fig,(ax1,ax2,ax3,ax4) = plt.subplots(4,1 , figsize = (6,8))"
   ]
  },
  {
   "cell_type": "code",
   "execution_count": null,
   "id": "d5066192",
   "metadata": {},
   "outputs": [],
   "source": [
    "ax3"
   ]
  },
  {
   "cell_type": "markdown",
   "id": "467618d1",
   "metadata": {},
   "source": [
    "# `Populating Graph`"
   ]
  },
  {
   "cell_type": "markdown",
   "id": "470e39c6",
   "metadata": {},
   "source": [
    "**x : axis : Months**\n",
    "**y : axis : Sales**"
   ]
  },
  {
   "cell_type": "code",
   "execution_count": null,
   "id": "1a827fb9",
   "metadata": {},
   "outputs": [],
   "source": [
    "sale[\"Months\"]"
   ]
  },
  {
   "cell_type": "code",
   "execution_count": null,
   "id": "d204ac8e",
   "metadata": {},
   "outputs": [],
   "source": [
    "fig,(ax1,ax2,ax3,ax4) = plt.subplots(4,1 , figsize = (6,8))\n",
    "\n",
    "ax1.plot(sale[\"Months\"] , sale[\"sales\"] , color = \"blue\", alpha = 0.1)"
   ]
  },
  {
   "cell_type": "code",
   "execution_count": null,
   "id": "413c2df0",
   "metadata": {},
   "outputs": [],
   "source": [
    "fig,(ax1,ax2,ax3,ax4) = plt.subplots(4,1 , figsize = (6,8))\n",
    "\n",
    "axes = [ax1 , ax2, ax3, ax4]\n",
    "\n",
    "for i in axes:\n",
    "    i.plot(sale[\"Months\"] , sale[\"sales\"] , color = \"blue\" , alpha = 0.1)"
   ]
  },
  {
   "cell_type": "code",
   "execution_count": null,
   "id": "ebbcabdf",
   "metadata": {},
   "outputs": [],
   "source": [
    "fig,(ax1,ax2,ax3,ax4) = plt.subplots(4,1 , figsize = (6,8))\n",
    "\n",
    "axes = [ax1 , ax2, ax3, ax4]\n",
    "\n",
    "for i in axes:\n",
    "    i.plot(sale[\"Months\"] , sale[\"sales\"] , color = \"blue\" , alpha = 0.1)\n",
    "    \n",
    "    #removing labels\n",
    "    i.set_xticklabels([])\n",
    "    i.set_yticklabels([])\n",
    "    \n",
    "    #removing ticks\n",
    "    i.tick_params(bottom = 0 , left = 0)\n",
    "    \n",
    "    #removing spines/borders\n",
    "    locations = ['right' , 'left' , 'top' , 'bottom']\n",
    "    \n",
    "    for j in locations:\n",
    "        i.spines[j].set_visible(False)"
   ]
  },
  {
   "cell_type": "markdown",
   "id": "e53f905c",
   "metadata": {},
   "source": [
    "# `Plotting Quarterly Graph`"
   ]
  },
  {
   "cell_type": "code",
   "execution_count": null,
   "id": "0c054a72",
   "metadata": {},
   "outputs": [],
   "source": [
    "sale"
   ]
  },
  {
   "cell_type": "code",
   "execution_count": null,
   "id": "f70e8692",
   "metadata": {},
   "outputs": [],
   "source": [
    "sale[0:3] #1st\n",
    "sale[2:6] #2nd\n",
    "sale[5:9] #3rd\n",
    "sale[8:12] #4th"
   ]
  },
  {
   "cell_type": "code",
   "execution_count": null,
   "id": "7b3bce51",
   "metadata": {},
   "outputs": [],
   "source": [
    "fig,(ax1,ax2,ax3,ax4) = plt.subplots(4,1 , figsize = (6,8))\n",
    "\n",
    "axes = [ax1 , ax2, ax3, ax4]\n",
    "\n",
    "for i in axes:\n",
    "    i.plot(sale[\"Months\"] , sale[\"sales\"] , color = \"blue\" , alpha = 0.1)\n",
    "    \n",
    "    #removing labels\n",
    "    i.set_xticklabels([])\n",
    "    i.set_yticklabels([])\n",
    "    \n",
    "    #removing ticks\n",
    "    i.tick_params(bottom = 0 , left = 0)\n",
    "    \n",
    "    #removing spines/borders\n",
    "    locations = ['right' , 'left' , 'top' , 'bottom']\n",
    "    \n",
    "    for j in locations:\n",
    "        i.spines[j].set_visible(False)\n",
    "        \n",
    "# Plotting Quarterly months (With dark color)\n",
    "ax1.plot(sale[\"Months\"][0:3], sale[\"sales\"][0:3], color = \"blue\", linewidth = 1.5)\n",
    "ax2.plot(sale[\"Months\"][2:6], sale[\"sales\"][2:6], color = \"blue\", linewidth = 1.5)\n",
    "ax3.plot(sale[\"Months\"][5:9], sale[\"sales\"][5:9], color = \"blue\", linewidth = 1.5)\n",
    "ax4.plot(sale[\"Months\"][8:12], sale[\"sales\"][8:12], color = \"blue\", linewidth = 1.5)"
   ]
  },
  {
   "cell_type": "code",
   "execution_count": null,
   "id": "3ce8afe1",
   "metadata": {},
   "outputs": [],
   "source": [
    "sale"
   ]
  },
  {
   "cell_type": "markdown",
   "id": "491098f5",
   "metadata": {},
   "source": [
    "# `Label Case`"
   ]
  },
  {
   "cell_type": "code",
   "execution_count": null,
   "id": "ed5b9042",
   "metadata": {},
   "outputs": [],
   "source": [
    "fig,(ax1,ax2,ax3,ax4) = plt.subplots(4,1 , figsize = (6,8))\n",
    "\n",
    "axes = [ax1 , ax2, ax3, ax4]\n",
    "\n",
    "for i in axes:\n",
    "    i.plot(sale[\"Months\"] , sale[\"sales\"] , color = \"blue\" , alpha = 0.1)\n",
    "    \n",
    "    #removing labels\n",
    "    i.set_xticklabels([])\n",
    "    i.set_yticklabels([])\n",
    "    \n",
    "    #removing ticks\n",
    "    i.tick_params(bottom = 0 , left = 0)\n",
    "    \n",
    "    #removing spines/borders\n",
    "    locations = ['right' , 'left' , 'top' , 'bottom']\n",
    "    \n",
    "    for j in locations:\n",
    "        i.spines[j].set_visible(False)\n",
    "        \n",
    "# Plotting Quarterly months (With dark color)\n",
    "ax1.plot(sale[\"Months\"][0:3], sale[\"sales\"][0:3], color = \"blue\", linewidth = 1.5)\n",
    "ax2.plot(sale[\"Months\"][2:6], sale[\"sales\"][2:6], color = \"blue\", linewidth = 1.5)\n",
    "ax3.plot(sale[\"Months\"][5:9], sale[\"sales\"][5:9], color = \"blue\", linewidth = 1.5)\n",
    "ax4.plot(sale[\"Months\"][8:12], sale[\"sales\"][8:12], color = \"blue\", linewidth = 1.5)\n",
    "\n",
    "# label\n",
    "ax1.text(0.2, 20000, \"14236.90\", alpha = 0.8, size = 8.5)\n",
    "ax1.text(2.3, 60000, \"55691.01\", alpha = 0.8, size = 8.5)\n",
    "ax2.text(2.3, 60000, \"55691.01\", alpha = 0.8, size = 8.5)\n",
    "ax2.text(5.2, 40000, \"34595.13\", alpha = 0.8, size = 8.5)\n",
    "ax3.text(5.2, 40000, \"34595.13\", alpha = 0.8, size = 8.5)\n",
    "ax3.text(8.3, 87000, \"81777.35\", alpha = 0.8, size = 8.5)\n",
    "ax4.text(8.3, 87000, \"81777.35\", alpha = 0.8, size = 8.5)\n",
    "ax4.text(11.5, 59000, \"69545.62\", alpha = 0.8, size = 8.5)"
   ]
  },
  {
   "cell_type": "markdown",
   "id": "b03cc48e",
   "metadata": {},
   "source": [
    "# `label Months`"
   ]
  },
  {
   "cell_type": "code",
   "execution_count": null,
   "id": "21d6e11a",
   "metadata": {},
   "outputs": [],
   "source": [
    "fig,(ax1,ax2,ax3,ax4) = plt.subplots(4,1 , figsize = (6,8))\n",
    "\n",
    "axes = [ax1 , ax2, ax3, ax4]\n",
    "\n",
    "for i in axes:\n",
    "    i.plot(sale[\"Months\"] , sale[\"sales\"] , color = \"blue\" , alpha = 0.1)\n",
    "    \n",
    "    #removing labels\n",
    "    i.set_xticklabels([])\n",
    "    i.set_yticklabels([])\n",
    "    \n",
    "    #removing ticks\n",
    "    i.tick_params(bottom = 0 , left = 0)\n",
    "    \n",
    "    #removing spines/borders\n",
    "    locations = ['right' , 'left' , 'top' , 'bottom']\n",
    "    \n",
    "    for j in locations:\n",
    "        i.spines[j].set_visible(False)\n",
    "        \n",
    "# Plotting Quarterly months (With dark color)\n",
    "ax1.plot(sale[\"Months\"][0:3], sale[\"sales\"][0:3], color = \"blue\", linewidth = 2)\n",
    "ax2.plot(sale[\"Months\"][2:6], sale[\"sales\"][2:6], color = \"blue\", linewidth = 2)\n",
    "ax3.plot(sale[\"Months\"][5:9], sale[\"sales\"][5:9], color = \"blue\", linewidth = 2)\n",
    "ax4.plot(sale[\"Months\"][8:12], sale[\"sales\"][8:12], color = \"blue\", linewidth = 2)\n",
    "\n",
    "# label\n",
    "ax1.text(0.2, 20000, \"14236.90\", alpha = 0.8, size = 8.5)\n",
    "ax1.text(2.3, 60000, \"55691.01\", alpha = 0.8, size = 8.5)\n",
    "ax2.text(2.3, 60000, \"55691.01\", alpha = 0.8, size = 8.5)\n",
    "ax2.text(5.2, 40000, \"34595.13\", alpha = 0.8, size = 8.5)\n",
    "ax3.text(5.2, 40000, \"34595.13\", alpha = 0.8, size = 8.5)\n",
    "ax3.text(8.3, 87000, \"81777.35\", alpha = 0.8, size = 8.5)\n",
    "ax4.text(8.3, 87000, \"81777.35\", alpha = 0.8, size = 8.5)\n",
    "ax4.text(11.5, 59000, \"69545.62\", alpha = 0.8, size = 8.5)\n",
    "\n",
    "# Label Months\n",
    "ax1.text(2.4, 8000, \"Jan-Mar\", color = \"blue\", weight = \"bold\", rotation = 66, size = 8)\n",
    "ax2.text(3.8, 14000, \"Apr-Jun\", color = \"blue\", weight = \"bold\", rotation = -9.5, size = 8)\n",
    "ax3.text(7.9, 45000, \"Jul-Sep\", color = \"blue\", weight = \"bold\", rotation = 66, size = 8)\n",
    "ax4.text(10, 50000, \"Oct-Dec\", color = \"blue\", weight = \"bold\", rotation = 62, size = 8)"
   ]
  },
  {
   "cell_type": "code",
   "execution_count": null,
   "id": "3034dccf",
   "metadata": {},
   "outputs": [],
   "source": [
    "sale"
   ]
  },
  {
   "cell_type": "code",
   "execution_count": null,
   "id": "012fa807",
   "metadata": {},
   "outputs": [],
   "source": [
    "sale['Total Sales'] = sale['sales'].cumsum(axis = 0) "
   ]
  },
  {
   "cell_type": "code",
   "execution_count": null,
   "id": "b9297eb5",
   "metadata": {},
   "outputs": [],
   "source": [
    "sale"
   ]
  },
  {
   "cell_type": "code",
   "execution_count": null,
   "id": "2fe77f26",
   "metadata": {},
   "outputs": [],
   "source": [
    "t_s = list(sale.iloc[[2 , 5 ,8 , 11]][\"Total Sales\"])"
   ]
  },
  {
   "cell_type": "code",
   "execution_count": null,
   "id": "ccc60ffa",
   "metadata": {},
   "outputs": [],
   "source": [
    "t_s"
   ]
  },
  {
   "cell_type": "markdown",
   "id": "6e190dcd",
   "metadata": {},
   "source": [
    "# `Adding Header `"
   ]
  },
  {
   "cell_type": "code",
   "execution_count": null,
   "id": "748d2671",
   "metadata": {},
   "outputs": [],
   "source": [
    "fig,(ax1,ax2,ax3,ax4) = plt.subplots(4,1 , figsize = (6,8))\n",
    "\n",
    "axes = [ax1 , ax2, ax3, ax4]\n",
    "\n",
    "for i in axes:\n",
    "    i.plot(sale[\"Months\"] , sale[\"sales\"] , color = \"blue\" , alpha = 0.1)\n",
    "    \n",
    "    #removing labels\n",
    "    i.set_xticklabels([])\n",
    "    i.set_yticklabels([])\n",
    "    \n",
    "    #removing ticks\n",
    "    i.tick_params(bottom = 0 , left = 0)\n",
    "    \n",
    "    #removing spines/borders\n",
    "    locations = ['right' , 'left' , 'top' , 'bottom']\n",
    "    \n",
    "    for j in locations:\n",
    "        i.spines[j].set_visible(False)\n",
    "        \n",
    "# Plotting Quarterly months (With dark color)\n",
    "ax1.plot(sale[\"Months\"][0:3], sale[\"sales\"][0:3], color = \"blue\", linewidth = 2)\n",
    "ax2.plot(sale[\"Months\"][2:6], sale[\"sales\"][2:6], color = \"blue\", linewidth = 2)\n",
    "ax3.plot(sale[\"Months\"][5:9], sale[\"sales\"][5:9], color = \"blue\", linewidth = 2)\n",
    "ax4.plot(sale[\"Months\"][8:12], sale[\"sales\"][8:12], color = \"blue\", linewidth = 2)\n",
    "\n",
    "# label\n",
    "ax1.text(0.2, 20000, \"14236.90\", alpha = 0.8, size = 8.5)\n",
    "ax1.text(2.3, 60000, \"55691.01\", alpha = 0.8, size = 8.5)\n",
    "ax2.text(2.3, 60000, \"55691.01\", alpha = 0.8, size = 8.5)\n",
    "ax2.text(5.2, 40000, \"34595.13\", alpha = 0.8, size = 8.5)\n",
    "ax3.text(5.2, 40000, \"34595.13\", alpha = 0.8, size = 8.5)\n",
    "ax3.text(8.3, 87000, \"81777.35\", alpha = 0.8, size = 8.5)\n",
    "ax4.text(8.3, 87000, \"81777.35\", alpha = 0.8, size = 8.5)\n",
    "ax4.text(11.5, 59000, \"69545.62\", alpha = 0.8, size = 8.5)\n",
    "\n",
    "# Label Months\n",
    "ax1.text(2.4, 8000, \"Jan-Mar\", color = \"blue\", weight = \"bold\", rotation = 66, size = 8)\n",
    "ax2.text(3.8, 14000, \"Apr-Jun\", color = \"blue\", weight = \"bold\", rotation = -9.5, size = 8)\n",
    "ax3.text(7.9, 45000, \"Jul-Sep\", color = \"blue\", weight = \"bold\", rotation = 66, size = 8)\n",
    "ax4.text(10, 50000, \"Oct-Dec\", color = \"blue\", weight = \"bold\", rotation = 62, size = 8)\n",
    "\n",
    "# Adding Header\n",
    "ax1.text(0.2, 120000, \"Quarterly Performance Review Of Market\", size = 12, weight = \"bold\")\n",
    "ax1.text(0.2, 105000 , \"Total sales in each Quarter\" , size = 9)\n",
    "\n",
    "c=0\n",
    "for i in axes:\n",
    "    i.text(5 , 1800 , \"Total Sales : \"  + str(t_s[c]) , weight = \"bold\", size = 9)\n",
    "    c += 1\n",
    "\n",
    "plt.show()"
   ]
  },
  {
   "cell_type": "markdown",
   "id": "89c28eab",
   "metadata": {},
   "source": [
    "# "
   ]
  },
  {
   "cell_type": "markdown",
   "id": "8e697cee",
   "metadata": {},
   "source": [
    "<font color= 'blue' size=4 >ACCORDING TO THE GRAPH `484247.51` TOTAL SALES AT THE END OF MONTH DECEMBER</font>\n"
   ]
  },
  {
   "cell_type": "markdown",
   "id": "4e15e9cc",
   "metadata": {},
   "source": [
    "<font color=\"blue\">AT END OF MONTH SEPTEMBER `304619.78` TOTAL SALES </font>"
   ]
  },
  {
   "cell_type": "markdown",
   "id": "81ee71f4",
   "metadata": {},
   "source": [
    "<font color=\"blue\">AT THE END OF MONTH JUN `160986.57` TOTAL SALES</font>"
   ]
  },
  {
   "cell_type": "markdown",
   "id": "a5343f4d",
   "metadata": {},
   "source": [
    "<font color=\"blue\">AT THE END OF MONTH JAN `74447.80` TOTAL SALES</font>"
   ]
  },
  {
   "cell_type": "code",
   "execution_count": null,
   "id": "bc4cff1b",
   "metadata": {},
   "outputs": [],
   "source": []
  }
 ],
 "metadata": {
  "kernelspec": {
   "display_name": "Python 3 (ipykernel)",
   "language": "python",
   "name": "python3"
  },
  "language_info": {
   "codemirror_mode": {
    "name": "ipython",
    "version": 3
   },
   "file_extension": ".py",
   "mimetype": "text/x-python",
   "name": "python",
   "nbconvert_exporter": "python",
   "pygments_lexer": "ipython3",
   "version": "3.10.9"
  }
 },
 "nbformat": 4,
 "nbformat_minor": 5
}
